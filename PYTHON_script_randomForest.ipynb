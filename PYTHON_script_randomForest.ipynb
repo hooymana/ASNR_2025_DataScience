{
  "cells": [
    {
      "cell_type": "markdown",
      "metadata": {
        "id": "view-in-github",
        "colab_type": "text"
      },
      "source": [
        "<a href=\"https://colab.research.google.com/github/hooymana/ASNR_2025_DataScience/blob/main/PYTHON_script_randomForest.ipynb\" target=\"_parent\"><img src=\"https://colab.research.google.com/assets/colab-badge.svg\" alt=\"Open In Colab\"/></a>"
      ]
    },
    {
      "cell_type": "markdown",
      "source": [
        "# Random Forest Example in Python"
      ],
      "metadata": {
        "id": "QlFbezc1O3NX"
      }
    },
    {
      "cell_type": "code",
      "source": [
        "import pandas as pd\n",
        "import numpy as np\n",
        "import seaborn as sns\n",
        "import matplotlib.pyplot as plt\n",
        "from urllib.request import urlopen\n",
        "\n",
        "from sklearn.linear_model import LogisticRegression\n",
        "import statsmodels.api as sm\n",
        "import statsmodels.formula.api as smf\n",
        "\n",
        "from sklearn.ensemble import RandomForestClassifier\n",
        "from sklearn.model_selection import train_test_split, StratifiedKFold, GridSearchCV\n",
        "from sklearn.impute import SimpleImputer\n",
        "from sklearn.pipeline import Pipeline\n",
        "from sklearn.compose import ColumnTransformer\n",
        "from sklearn.preprocessing import OneHotEncoder, StandardScaler\n",
        "from sklearn.metrics import confusion_matrix, classification_report, roc_auc_score, roc_curve, auc\n",
        "\n",
        "from yellowbrick.classifier import ROCAUC\n"
      ],
      "metadata": {
        "id": "x-7nCSH1O3il"
      },
      "execution_count": null,
      "outputs": []
    },
    {
      "cell_type": "markdown",
      "source": [
        "Importing and cleaning data"
      ],
      "metadata": {
        "id": "xITN5RicO7PS"
      }
    },
    {
      "cell_type": "code",
      "source": [
        "# data import and cleaning\n",
        "url = \"https://raw.githubusercontent.com/hooymana/CSM_Data-Visualization_2025/main/healthcare-dataset-stroke-data.csv\"\n",
        "stroke_data = pd.read_csv(url, na_values=[\"\", \"N/A\", \"NaN\", \"NA\"])\n",
        "stroke_data['stroke'] = stroke_data['stroke'].astype('category')\n",
        "stroke_data.head()"
      ],
      "metadata": {
        "id": "5akL7ZXQO8zh"
      },
      "execution_count": null,
      "outputs": []
    },
    {
      "cell_type": "markdown",
      "source": [
        "Raincloud like plot"
      ],
      "metadata": {
        "id": "kvfkNIoIPAST"
      }
    },
    {
      "cell_type": "code",
      "source": [
        "\n",
        "# Raincloud like plot\n",
        "sns.violinplot(data=stroke_data, y='stroke', x='age', hue='stroke', split=True, orient='h', inner=None)  # Remove inner boxplot\n",
        "sns.boxplot(data=stroke_data, y='stroke', x='age', orient='h', width=0.2, color='k', showmeans=True) # Add boxplot separately\n",
        "sns.stripplot(data=stroke_data, y='stroke', x='age', orient='h', color='grey', size=3, jitter=0.1, alpha=0.6) # Add jittered points\n",
        "\n",
        "plt.title(\"Raincloud-like Violin Plot of Age by Stroke\")\n",
        "plt.ylabel(\"Stroke (0 = No, 1 = Yes)\")\n",
        "plt.xlabel(\"Age\")\n",
        "plt.show()"
      ],
      "metadata": {
        "id": "JCy2lWa0PAcc"
      },
      "execution_count": null,
      "outputs": []
    },
    {
      "cell_type": "markdown",
      "source": [
        "Fitting and plotting a linear model"
      ],
      "metadata": {
        "id": "tH5zy4srPFeK"
      }
    },
    {
      "cell_type": "code",
      "source": [
        "# linear trend with  scatter\n",
        "from scipy.stats import linregress\n",
        "\n",
        "# Linear model stats\n",
        "model = smf.ols('avg_glucose_level ~ age * stroke', data=stroke_data).fit()\n",
        "print(model.summary())\n",
        "\n",
        "# Trendlines\n",
        "sns.lmplot(data=stroke_data, x='age', y='avg_glucose_level', hue='stroke', aspect=1.5)\n",
        "plt.title(\"Glucose vs Age by Stroke\")\n",
        "plt.show()\n",
        "\n",
        "# I cannot get this to work correctly : P\n",
        "# Marginal plots\n",
        "import seaborn as sns\n",
        "sns.jointplot(data=stroke_data, x='age', y='avg_glucose_level', hue='stroke', kind='kde')\n"
      ],
      "metadata": {
        "id": "JKtBO36ePFlu"
      },
      "execution_count": null,
      "outputs": []
    },
    {
      "cell_type": "markdown",
      "source": [
        "Logistic Regression"
      ],
      "metadata": {
        "id": "Le11xqmvPQbu"
      }
    },
    {
      "cell_type": "code",
      "source": [
        "# prompt: show me the data type, levels of the residence type variable, and how the residency type is coded, include cross tabs with work_type\n",
        "# Check data type of 'Residence_type'\n",
        "print(stroke_data['Residence_type'].dtype)\n",
        "\n",
        "# Get levels of 'Residence_type'\n",
        "print(stroke_data['Residence_type'].unique())\n",
        "\n",
        "# Cross-tabulation of 'Residence_type' and 'work_type'\n",
        "print(pd.crosstab(stroke_data['Residence_type'], stroke_data['work_type']))\n"
      ],
      "metadata": {
        "id": "FxR5LEDy2t_D"
      },
      "execution_count": null,
      "outputs": []
    },
    {
      "cell_type": "code",
      "source": [
        "# Define the formula for the logistic regression\n",
        "formula = 'stroke ~ age + hypertension + heart_disease + avg_glucose_level + bmi + gender + ever_married + Residence_type + work_type + smoking_status'\n",
        "# smf.logit does not work (singularity warning)\n",
        "# smf.glm with family=binomial() does\n",
        "\n",
        "# Convert 'stroke' column to numeric (0 and 1)\n",
        "stroke_data['stroke'] = pd.to_numeric(stroke_data['stroke'])\n",
        "\n",
        "# Fit the logistic regression model\n",
        "model = smf.glm(formula=formula, data=stroke_data, family=sm.families.Binomial()).fit()\n",
        "\n",
        "# Print the model summary\n",
        "print(model.summary())"
      ],
      "metadata": {
        "id": "CyrNRHPL0iRy"
      },
      "execution_count": null,
      "outputs": []
    },
    {
      "cell_type": "markdown",
      "source": [
        "Changing the reference level to match R output"
      ],
      "metadata": {
        "id": "LVNV7jHFjVvH"
      }
    },
    {
      "cell_type": "code",
      "source": [
        "# prompt: How can the levels of all the categorical factors in the stroke_data dataset\n",
        "\n",
        "# Iterate through all columns in the DataFrame\n",
        "for col in stroke_data.columns:\n",
        "    # Check if the data type is 'category' or 'object' (string)\n",
        "    if stroke_data[col].dtype == 'category' or stroke_data[col].dtype == 'object':\n",
        "        # Print the column name and its unique values (levels)\n",
        "        print(f\"Levels of categorical factor '{col}':\")\n",
        "        print(stroke_data[col].unique())\n",
        "        print(\"-\" * 20)\n"
      ],
      "metadata": {
        "id": "zpuRDposh4oA"
      },
      "execution_count": null,
      "outputs": []
    },
    {
      "cell_type": "code",
      "source": [
        "# Gender\n",
        "stroke_data['gender'] = pd.Categorical(stroke_data['gender'], categories=['Female', 'Male'], ordered=True)\n",
        "# Ever Married\n",
        "stroke_data['ever_married'] = pd.Categorical(stroke_data['ever_married'], categories=['No', 'Yes'], ordered=True)\n",
        "# Work Type\n",
        "stroke_data['work_type'] = pd.Categorical(stroke_data['work_type'], categories=['children', 'Govt_job', 'Never_worked', 'Private', 'Self-employed'], ordered=True)\n",
        "# Residence Type\n",
        "stroke_data['Residence_type'] = pd.Categorical(stroke_data['Residence_type'], categories=['Rural', 'Urban'], ordered=True)\n",
        "# Smoking Status\n",
        "stroke_data['smoking_status'] = pd.Categorical(stroke_data['smoking_status'], categories=['formerly smoked', 'never smoked', 'smokes', 'Unknown'], ordered=True)\n"
      ],
      "metadata": {
        "id": "R2Umdd8fjs9d"
      },
      "execution_count": null,
      "outputs": []
    },
    {
      "cell_type": "markdown",
      "source": [
        "Refit the Model"
      ],
      "metadata": {
        "id": "t_WCfQ0alJuV"
      }
    },
    {
      "cell_type": "code",
      "source": [
        "# Define the formula for the logistic regression\n",
        "formula = 'stroke ~ gender + age + hypertension + heart_disease + ever_married + work_type + Residence_type + avg_glucose_level + bmi +  smoking_status'\n",
        "# Note that the coefficients from R and Python still do not match perfectly!\n",
        "# For one, they are not in the same order so check your row numbers\n",
        "# for two, the work_type[never_worked] coefficients are way off!\n",
        "# To my knowledge, both of these function use IRLS and the logit link function by default\n",
        "# notably, the R model converges sooner (after 14 Fisher interations rather than 22 for Python)\n",
        "\n",
        "# Convert 'stroke' column to numeric (0 and 1)\n",
        "stroke_data['stroke'] = pd.to_numeric(stroke_data['stroke'])\n",
        "\n",
        "# Fit the logistic regression model\n",
        "model = smf.glm(formula=formula, data=stroke_data, family=sm.families.Binomial()).fit()\n",
        "\n",
        "# Print the model summary\n",
        "print(model.summary())"
      ],
      "metadata": {
        "id": "RB2n0O7SlM4m"
      },
      "execution_count": null,
      "outputs": []
    },
    {
      "cell_type": "code",
      "source": [
        "# Extract Odds Ratios (OR), Confidence Intervals (CI), and p-values\n",
        "odds_ratios = np.exp(model.params).round(3)\n",
        "conf = np.exp(model.conf_int()).round(3)\n",
        "pvals = model.pvalues.round(3)\n",
        "\n",
        "# Create a DataFrame to display results\n",
        "results_df = pd.DataFrame({\n",
        "    'OR': odds_ratios,\n",
        "    'lower.CI': conf[0],\n",
        "    'upper.CI': conf[1],\n",
        "    'p.value': pvals\n",
        "})\n",
        "\n",
        "# Print the results\n",
        "print(results_df)"
      ],
      "metadata": {
        "id": "zPadNxs2PQjk"
      },
      "execution_count": null,
      "outputs": []
    },
    {
      "cell_type": "markdown",
      "source": [
        "# Setting up the ML Pipeline"
      ],
      "metadata": {
        "id": "VnidEUyDPgVA"
      }
    },
    {
      "cell_type": "code",
      "source": [
        "# set up ML pipeline\n",
        "X = stroke_data.drop(columns=['id', 'stroke'])\n",
        "y = stroke_data['stroke']\n",
        "\n",
        "X_train, X_test, y_train, y_test = train_test_split(X, y,\n",
        "                                                    test_size=0.2,\n",
        "                                                    random_state=123,\n",
        "                                                    stratify=y)\n",
        "\n",
        "\n",
        "# Split by dtype\n",
        "numeric_features = X.select_dtypes(include=['int64', 'float64']).columns\n",
        "categorical_features = X.select_dtypes(include=['object', 'category']).columns\n",
        "\n",
        "numeric_transformer = Pipeline(steps=[\n",
        "    ('imputer', SimpleImputer(strategy='median')),\n",
        "    ('scaler', StandardScaler())\n",
        "])\n",
        "\n",
        "categorical_transformer = Pipeline(steps=[\n",
        "    ('imputer', SimpleImputer(strategy='most_frequent')),\n",
        "    ('onehot', OneHotEncoder(handle_unknown='ignore'))\n",
        "])\n",
        "\n",
        "preprocessor = ColumnTransformer(\n",
        "    transformers=[\n",
        "        ('num', numeric_transformer, numeric_features),\n",
        "        ('cat', categorical_transformer, categorical_features)\n",
        "    ])\n"
      ],
      "metadata": {
        "id": "xhQeY0h6Pgbd"
      },
      "execution_count": null,
      "outputs": []
    },
    {
      "cell_type": "markdown",
      "source": [
        "# Cross Validation to Tune the Random Forest Model"
      ],
      "metadata": {
        "id": "FdYNqmMHPtE0"
      }
    },
    {
      "cell_type": "code",
      "source": [
        "# Cross validation and tuning random forest\n",
        "pipeline = Pipeline(steps=[\n",
        "    ('preprocessor', preprocessor),\n",
        "    ('classifier', RandomForestClassifier(n_estimators=1000, random_state=234))\n",
        "])\n",
        "\n",
        "param_grid = {\n",
        "    'classifier__max_features': ['sqrt', 'log2'],\n",
        "    'classifier__min_samples_split': [2, 5, 10]\n",
        "}\n",
        "\n",
        "cv = StratifiedKFold(n_splits=5, shuffle=True, random_state=234)\n",
        "\n",
        "grid_search = GridSearchCV(pipeline, param_grid, cv=cv, scoring='roc_auc', n_jobs=-1)\n",
        "grid_search.fit(X_train, y_train)\n",
        "print(grid_search.best_params_)\n"
      ],
      "metadata": {
        "id": "QGoKMZ7kPtLs"
      },
      "execution_count": null,
      "outputs": []
    },
    {
      "cell_type": "markdown",
      "source": [
        "Variable Importantance Plot"
      ],
      "metadata": {
        "id": "jdfpgUF6Pwhw"
      }
    },
    {
      "cell_type": "code",
      "source": [
        "best_model = grid_search.best_estimator_\n",
        "importances = best_model.named_steps['classifier'].feature_importances_\n",
        "\n",
        "# Get feature names\n",
        "feature_names = best_model.named_steps['preprocessor'].get_feature_names_out()\n",
        "importance_df = pd.DataFrame({'feature': feature_names, 'importance': importances})\n",
        "importance_df = importance_df.sort_values(by='importance', ascending=False)\n",
        "\n",
        "# Plot\n",
        "sns.barplot(data=importance_df, x='importance', y='feature', palette='Blues_d')\n",
        "plt.title(\"Variable Importance\")\n",
        "plt.tight_layout()\n",
        "plt.show()"
      ],
      "metadata": {
        "id": "nQpqkY5qPwpP"
      },
      "execution_count": null,
      "outputs": []
    },
    {
      "cell_type": "markdown",
      "source": [
        "# Evaluate Model Performance on Test Data"
      ],
      "metadata": {
        "id": "YXB5fIXzQGtf"
      }
    },
    {
      "cell_type": "code",
      "source": [
        "# ROC evaluation on test set\n",
        "y_probs = best_model.predict_proba(X_test)[:, 1]\n",
        "y_pred = best_model.predict(X_test)\n",
        "\n",
        "roc_auc = roc_auc_score(y_test, y_probs)\n",
        "# The change: Remove '.cat.codes', as y_test is already numeric\n",
        "fpr, tpr, thresholds = roc_curve(y_test, y_probs)\n",
        "\n",
        "# Youden's J\n",
        "youden_j = tpr - fpr\n",
        "best_threshold = thresholds[np.argmax(youden_j)]\n",
        "\n",
        "print(\"Best threshold by Youden's J:\", best_threshold)\n",
        "\n",
        "# Threshold-adjusted prediction\n",
        "y_pred_opt = (y_probs >= best_threshold).astype(int)\n",
        "\n",
        "# Confusion matrix & Metrics\n",
        "print(confusion_matrix(y_test, y_pred_opt))  # Also changed here\n",
        "print(classification_report(y_test, y_pred_opt)) # Also changed here"
      ],
      "metadata": {
        "id": "6X4H8LgQQG0y"
      },
      "execution_count": null,
      "outputs": []
    },
    {
      "cell_type": "markdown",
      "source": [
        "ROC Curve Plot"
      ],
      "metadata": {
        "id": "lxk4KzAHQKVw"
      }
    },
    {
      "cell_type": "markdown",
      "source": [
        "If you want a video tutorial of how to use Google Colab and copy your notebooks into Github you can follow this link: https://youtu.be/DtuU0gZRlaY\n",
        "\n",
        "This was work sponsored by ReproRehab: https://www.reprorehab.usc.edu/ <br>\n",
        "![reprorehab logo.png](data:image/png;base64,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)"
      ],
      "metadata": {
        "id": "IesS8MjCQKf9"
      }
    }
  ],
  "metadata": {
    "colab": {
      "provenance": [],
      "include_colab_link": true
    },
    "kernelspec": {
      "display_name": "Python 3",
      "name": "python3"
    },
    "language_info": {
      "name": "python"
    }
  },
  "nbformat": 4,
  "nbformat_minor": 0
}