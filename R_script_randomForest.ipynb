{
  "cells": [
    {
      "cell_type": "markdown",
      "metadata": {
        "id": "view-in-github",
        "colab_type": "text"
      },
      "source": [
        "<a href=\"https://colab.research.google.com/github/hooymana/ASNR_2025_DataScience/blob/main/script_randomForest_example_R.ipynb\" target=\"_parent\"><img src=\"https://colab.research.google.com/assets/colab-badge.svg\" alt=\"Open In Colab\"/></a>"
      ]
    },
    {
      "cell_type": "markdown",
      "source": [
        "This section takes about 10 minutes to load.<br>\n",
        "Hit play button for this chunk to have it run in the background while Lei presents."
      ],
      "metadata": {
        "id": "fS7wcfqpicty"
      }
    },
    {
      "cell_type": "code",
      "execution_count": null,
      "metadata": {
        "id": "5asuKD3Z62NS"
      },
      "outputs": [],
      "source": [
        "#machine learning packages\n",
        "install.packages(\"randomForest\")\n",
        "install.packages(\"tidymodels\")\n",
        "#data manipulation packages\n",
        "install.packages(\"dplyr\")\n",
        "install.packages(\"tidyverse\")\n",
        "#data importing packages\n",
        "install.packages(\"curl\")\n",
        "#data visualization packages\n",
        "install.packages(\"ggplot2\")\n",
        "install.packages(\"gghalves\")\n",
        "install.packages(\"ggExtra\")\n",
        "\n",
        "#running library() loads the installed packages into your connections memory.\n",
        "library(tidyverse)\n",
        "library(tidymodels)\n",
        "library(dplyr)\n",
        "library(randomForest)\n",
        "library(curl)\n",
        "library(ggplot2)\n",
        "library(gghalves)\n",
        "library(ggExtra)\n"
      ]
    },
    {
      "cell_type": "markdown",
      "source": [
        "**Reading in data from github using curl.** <br>\n",
        "These data are read in from [this](https://github.com/hooymana/CSM_Data-Visualization_2025) repository. <br>\n",
        "This way the file doesn't have to be downloaded from a repository and then uploaded into collab."
      ],
      "metadata": {
        "id": "uT-1_SqvtHBB"
      }
    },
    {
      "cell_type": "code",
      "execution_count": null,
      "metadata": {
        "id": "mqn2o_JV7J7e"
      },
      "outputs": [],
      "source": [
        "url <- \"https://raw.githubusercontent.com/hooymana/ASNR_2025_DataScience/main/healthcare-dataset-stroke-data_ASNR.csv\"\n",
        "stroke_data <- read.csv(curl(url),\n",
        "                 header=TRUE, stringsAsFactors = TRUE,\n",
        "                 na.strings = c(\"\", \"N/A\")) %>%\n",
        "  mutate(stroke = factor(stroke, levels = c(\"0\", \"1\")))"
      ]
    },
    {
      "cell_type": "markdown",
      "source": [
        "These data come from [Kaggle](https://www.kaggle.com/datasets/fedesoriano/stroke-prediction-dataset) as part of a stroke prediction challenge.\n",
        "\n",
        "**Attribute Information** <br>\n",
        ">1) id: unique identifier <br>\n",
        "2) gender: \"Male\", \"Female\" or \"Other\" <br>\n",
        "3) age: age of the patient <br>\n",
        "4) hypertension: 0 if the patient doesn't have hypertension, 1 if the patient has hypertension <br>\n",
        "5) heart_disease: 0 if the patient doesn't have any heart diseases, 1 if the patient has a heart disease <br>\n",
        "6) ever_married: \"No\" or \"Yes\" <br>\n",
        "7) work_type: \"children\", \"Govt_jov\", \"Never_worked\", \"Private\" or \"Self-employed\" <br>\n",
        "8) Residence_type: \"Rural\" or \"Urban\" <br>\n",
        "9) avg_glucose_level: average glucose level in blood <br>\n",
        "10) bmi: body mass index <br>\n",
        "11) smoking_status: \"formerly smoked\", \"never smoked\", \"smokes\" or \"Unknown\"* <br>\n",
        "12) stroke: 1 if the patient had a stroke or 0 if not <br>"
      ],
      "metadata": {
        "id": "ukpegYZucvRh"
      }
    },
    {
      "cell_type": "code",
      "execution_count": null,
      "metadata": {
        "id": "mCfw-Rdg7Tob"
      },
      "outputs": [],
      "source": [
        "head(stroke_data)"
      ]
    },
    {
      "cell_type": "code",
      "source": [
        "str(stroke_data)"
      ],
      "metadata": {
        "id": "fJvXdEcVeoLI"
      },
      "execution_count": null,
      "outputs": []
    },
    {
      "cell_type": "markdown",
      "source": [
        "**Only 4.9% (249/5109) of the participants in these data have a stroke.**"
      ],
      "metadata": {
        "id": "TQuc4U4IkudR"
      }
    },
    {
      "cell_type": "code",
      "source": [
        "summary(stroke_data$stroke)"
      ],
      "metadata": {
        "id": "o6HXcVkDep9-"
      },
      "execution_count": null,
      "outputs": []
    },
    {
      "cell_type": "markdown",
      "source": [
        "**Let's do some visualizations of the data using GGplot.**<br>\n",
        "This is rain cloud plot demonstrating the magnitude and distribution of age between people with and without stroke."
      ],
      "metadata": {
        "id": "Y1K-uaIdUwRA"
      }
    },
    {
      "cell_type": "code",
      "source": [
        "#Rain cloud plot\n",
        "ggplot(stroke_data,aes(x=stroke,y=age,color=stroke))+\n",
        "  #geom_half_boxplot(side=\"l\",errorbar.length = 1)+\n",
        "  geom_half_violin(side=\"r\",show.legend = F)+\n",
        "  geom_half_boxplot(side=\"l\",show.legend = T)+\n",
        "  geom_half_dotplot(stackdir = \"down\",binwidth=1/3,alpha=.25,show.legend = F)+\n",
        "  xlab(\"Stroke\")+\n",
        "  ylab(\"Age (Years)\")+\n",
        "  labs(caption = \"0 = No Stroke, 1 = Stroke\")+\n",
        "  coord_flip()"
      ],
      "metadata": {
        "id": "3a6hCE66WLDs"
      },
      "execution_count": null,
      "outputs": []
    },
    {
      "cell_type": "markdown",
      "source": [
        "This is a scatter plot between age and average glucose among people with and without stroke.<br>\n",
        "The trends in this plot represent the linear fit between age and glucose for people with and without stroke."
      ],
      "metadata": {
        "id": "qsanWtdUaREJ"
      }
    },
    {
      "cell_type": "code",
      "source": [
        "#Get the linear trends to get the intercepts and slopes for each group.\n",
        "#Then we can map a black background line to provide contrast between the trends\n",
        "# and the data.\n",
        "summary(lm(avg_glucose_level~age*stroke,stroke_data))\n",
        "\n",
        "a=ggplot(stroke_data,aes(x=age,y=avg_glucose_level,color=stroke))+\n",
        "  geom_point(alpha=.1)+ #make invisible points so that ggmarginal works\n",
        "  geom_point(data=stroke_data[stroke_data$stroke==0,],\n",
        "mapping=aes(x=age,y=avg_glucose_level),\n",
        "alpha=.2,color=\"purple\")+ #create points specific to no stroke\n",
        "    geom_point(data=stroke_data[stroke_data$stroke==1,],\n",
        "mapping=aes(x=age,y=avg_glucose_level),\n",
        "alpha=.95,shape=21,stroke=1.5,color=\"orange\")+ #create bolder points specific to stroke\n",
        "  geom_abline(intercept = 86.4,slope = .44,color=\"black\",size=2.5,alpha=.75)+ #create contrast line for non-stroke\n",
        "  geom_abline(intercept = 96.6,slope = .53,color=\"black\",size=2.5,alpha=.75)+ #create contrast line for stroke\n",
        "  geom_smooth(method = \"lm\",size=1)+ #create linear trends for each group (stroke and non-stroke)\n",
        "  xlab(\"Age (Years)\")+\n",
        "  scale_color_manual(values = c(\"0\" = \"purple\", \"1\" = \"orange\"))+ #customize color of trend lines\n",
        "  theme_classic()+ #make background white\n",
        "  ylab(\"Average Glucose Level\")\n",
        "\n",
        "ggMarginal(a,type = \"density\",groupFill = T) #add the density plots to the x and y axes\n"
      ],
      "metadata": {
        "id": "ThhYm6PdZ4LU"
      },
      "execution_count": null,
      "outputs": []
    },
    {
      "cell_type": "markdown",
      "source": [
        "You can find more ways to plot in ggplot using this [github repo](https://github.com/hooymana/CSM_Data-Visualization_2025/tree/main)."
      ],
      "metadata": {
        "id": "n-xBPuQclCPG"
      }
    },
    {
      "cell_type": "markdown",
      "source": [
        "**Our Research Question** <br>\n",
        "Can we identify which variables are associated with having a stroke? <br>\n",
        "<br>\n",
        "Let's try logistic regression first (remember to remove id variable)."
      ],
      "metadata": {
        "id": "CUH9iQnsenMx"
      }
    },
    {
      "cell_type": "code",
      "source": [
        "fit.all = glm(stroke~. -id,stroke_data,family = \"binomial\")\n",
        "summary(fit.all)"
      ],
      "metadata": {
        "id": "_6mgeJp7fYiz"
      },
      "execution_count": null,
      "outputs": []
    },
    {
      "cell_type": "markdown",
      "source": [
        "**Let's make a table to check and interpret results**<br>\n",
        "<br>\n",
        "We will need to use the exp() function to convert the coefficients and confidence intervals to Odds Ratios (OR). <br>\n",
        "\n",
        "OR > 1 represent variables that increase odds of stroke.<br>\n",
        "OR < 1 represent variables that decrease odds of stroke.<br>\n",
        "OR = 1 (non-significant) represent neither increase or decrease in odds of stroke."
      ],
      "metadata": {
        "id": "HsWCoUKBn3fi"
      }
    },
    {
      "cell_type": "code",
      "source": [
        "coef.vec=round(exp(coef(fit.all)),3)\n",
        "confint.table=suppressWarnings(round(exp(confint(fit.all)),3))\n",
        "\n",
        "results.df=data.frame(OR = coef.vec,\n",
        "lower.CI = confint.table[,1],\n",
        "upper.CI = confint.table[,2],\n",
        "p.value = round(coef(summary(fit.all))[,4],3))\n",
        "\n",
        "results.df"
      ],
      "metadata": {
        "id": "jZinduq5j4p9"
      },
      "execution_count": null,
      "outputs": []
    },
    {
      "cell_type": "markdown",
      "source": [
        "Variables age, hypertension, and average glucose are statistically significant. <br>\n",
        "<br>\n",
        "But how well do they classify?<br>\n",
        "Statistical significance is great but are these results meaningful?"
      ],
      "metadata": {
        "id": "iXblWMIvg8KR"
      }
    },
    {
      "cell_type": "code",
      "source": [
        "# Predict on the data\n",
        "stroke_pred <- ifelse(predict(fit.all, newdata = stroke_data, type = \"response\") > 0.5, 1, 0)\n",
        "\n",
        "# Generate a confusion matrix using the training data\n",
        "table(stroke_data$stroke,stroke_pred)"
      ],
      "metadata": {
        "id": "ijibJsnNhbkA"
      },
      "execution_count": null,
      "outputs": []
    },
    {
      "cell_type": "markdown",
      "source": [
        "**Not very good.** <br>\n",
        "<br>\n",
        "It is important to remember that these results represent association and not prediction. To get closer to prediction we can perform **cross-validation**.<br>\n",
        "\n",
        "I am going to create a training set and test set with an equal proportion of people with stroke in both.<br>\n",
        "\n",
        "It is conventional to have the training data be 80% of the total data and the test data to be 20% of the total data. <br>\n",
        "\n",
        "This is known as an 80/20 cross-validation split."
      ],
      "metadata": {
        "id": "8vqHNgkrpEQd"
      }
    },
    {
      "cell_type": "code",
      "source": [
        "set.seed(123) # Set seed for reproducibility\n",
        "\n",
        "# Split data into training and testing sets with stratification, the \"prop\" arguement splits the data into percent training and test we want.\n",
        "stroke_split <- initial_split(stroke_data, prop = 0.8, strata = stroke)\n",
        "stroke_train <- training(stroke_split)\n",
        "stroke_test <- testing(stroke_split)\n",
        "\n",
        "table(stroke_train$stroke)\n",
        "table(stroke_test$stroke)"
      ],
      "metadata": {
        "id": "z80hlWF6pXcv"
      },
      "execution_count": null,
      "outputs": []
    },
    {
      "cell_type": "markdown",
      "source": [
        "**Now we will *train* our a model with the training data set.**<br>\n",
        "This will generate a model that has coefficients specific to the training data, but is naive to the test data. <br>\n",
        "**Then *test* that model on the test set**<br>\n",
        "Classification accuracy of the trained model on the test set will tell us how well the model predicts *novel* data."
      ],
      "metadata": {
        "id": "FA0sKVjgqgw4"
      }
    },
    {
      "cell_type": "code",
      "source": [
        "fit.train = glm(stroke~. -id,stroke_train,family = \"binomial\")\n",
        "\n",
        "# Predict on the test set\n",
        "stroke_pred_test <- ifelse(predict(fit.train, newdata = stroke_test, type = \"response\") > 0.5, 1, 0)\n",
        "\n",
        "# Generate a confusion matrix between the predicted versus actual classes on the test set.\n",
        "table(stroke_test$stroke,stroke_pred_test)"
      ],
      "metadata": {
        "id": "q8AR96FHq16L"
      },
      "execution_count": null,
      "outputs": []
    },
    {
      "cell_type": "markdown",
      "source": [
        "Using Logistic Regression we do not achieve any meaningful level of prediction. <br>\n",
        "What if we try a *Machine Learning* approach?"
      ],
      "metadata": {
        "id": "IpZ2PtmCJdJ-"
      }
    },
    {
      "cell_type": "code",
      "execution_count": null,
      "metadata": {
        "id": "cJOz6wJm7W6W"
      },
      "outputs": [],
      "source": [
        "set.seed(123)\n",
        "data_split <- initial_split(stroke_data, strata = stroke)\n",
        "train_data <- training(data_split)\n",
        "test_data <- testing(data_split)\n",
        "summary(train_data$stroke)\n",
        "summary(test_data$stroke)\n"
      ]
    },
    {
      "cell_type": "code",
      "execution_count": null,
      "metadata": {
        "id": "Q9DwGPnS7Zz0"
      },
      "outputs": [],
      "source": [
        "stroke_recipe <- recipe(stroke ~ ., data = train_data%>%select(-id)) %>%\n",
        "  step_impute_median(all_numeric_predictors()) %>%\n",
        "  step_impute_mode(all_nominal_predictors()) %>%\n",
        "  step_dummy(all_nominal_predictors()) %>%\n",
        "  step_zv(all_predictors())"
      ]
    },
    {
      "cell_type": "code",
      "execution_count": null,
      "metadata": {
        "id": "GmlIOb7i7c69"
      },
      "outputs": [],
      "source": [
        "set.seed(234)\n",
        "cv_folds <- vfold_cv(train_data, v = 5, strata = stroke)\n",
        "\n",
        "\n",
        "rand_forest_spec <- rand_forest(\n",
        "  mtry = tune(),\n",
        "  min_n = tune(),\n",
        "  trees = 1000 #May want to reduce this step to cut down on tunning time.\n",
        ") %>%\n",
        "  set_engine(\"randomForest\") %>%\n",
        "  set_mode(\"classification\")\n",
        "\n",
        "\n",
        "rf_workflow <- workflow() %>%\n",
        "  add_model(rand_forest_spec) %>%\n",
        "  add_recipe(stroke_recipe)"
      ]
    },
    {
      "cell_type": "markdown",
      "source": [
        "All steps above this are fast but this one is taking some time. Makes sense with model tuning. While this is running it may be fun to show how gemini can explain code."
      ],
      "metadata": {
        "id": "VdcHXbS6irF0"
      }
    },
    {
      "cell_type": "code",
      "execution_count": null,
      "metadata": {
        "id": "2jYLRy1l7e7d"
      },
      "outputs": [],
      "source": [
        "set.seed(345)\n",
        "rf_tune_results <- tune_grid(\n",
        "  rf_workflow,\n",
        "  resamples = cv_folds,\n",
        "  grid = 50,\n",
        "  metrics = metric_set(roc_auc, accuracy)\n",
        ")"
      ]
    },
    {
      "cell_type": "code",
      "execution_count": null,
      "metadata": {
        "id": "d43x9P0W7h2l"
      },
      "outputs": [],
      "source": [
        "rf_tune_results$.metrics\n",
        "best_rf <- select_best(rf_tune_results, metric=\"roc_auc\")\n",
        "\n",
        "final_rf_workflow <- finalize_workflow(\n",
        "  rf_workflow,\n",
        "  best_rf\n",
        ")\n",
        "\n",
        "final_rf_fit <- fit(final_rf_workflow, data = train_data)\n",
        "\n"
      ]
    },
    {
      "cell_type": "code",
      "source": [
        "rf_fit_extracted <- extract_fit_parsnip(final_rf_fit)$fit\n",
        "\n",
        "str(rf_fit_extracted)\n",
        "\n"
      ],
      "metadata": {
        "id": "pqdW4S4uVnQc"
      },
      "execution_count": null,
      "outputs": []
    },
    {
      "cell_type": "code",
      "source": [
        "importance_df <- as.data.frame(rf_fit_extracted$importance) %>%\n",
        "  tibble::rownames_to_column(\"variable\") %>%\n",
        "  rename(importance = MeanDecreaseGini)\n",
        "\n",
        "# Save variable importance data (optional)\n",
        "#write.csv(var_imp, \"variable_importance.csv\", row.names = FALSE)"
      ],
      "metadata": {
        "id": "IMrJxMH5VpaT"
      },
      "execution_count": null,
      "outputs": []
    },
    {
      "cell_type": "code",
      "source": [
        "# Plot the variable importance metrics\n",
        "importance_df %>%\n",
        "  ggplot(aes(x = reorder(variable, importance), y = importance)) +\n",
        "  geom_col(fill = \"steelblue\") +\n",
        "  coord_flip() +\n",
        "  labs(\n",
        "    title = \"Variable Importance\",\n",
        "    x = NULL,\n",
        "    y = \"Importance (Mean Decrease in Gini)\"\n",
        "  ) +\n",
        "  theme_minimal()\n",
        "\n",
        "# save the plot (optional)\n",
        "#ggsave(\"variable_importance_plot.png\", width = 8, height = 6, dpi = 300)"
      ],
      "metadata": {
        "id": "yTPrQ8ZGPDl9"
      },
      "execution_count": null,
      "outputs": []
    },
    {
      "cell_type": "markdown",
      "source": [
        "# Model Performance on Test Data"
      ],
      "metadata": {
        "id": "D0DWHQmFt-c-"
      }
    },
    {
      "cell_type": "code",
      "execution_count": null,
      "metadata": {
        "id": "AxKQsUKy7oTj"
      },
      "outputs": [],
      "source": [
        "# Predict class probabilities and classes on test set\n",
        "rf_preds <- predict(final_rf_fit, test_data, type = \"prob\") %>%\n",
        "  bind_cols(predict(final_rf_fit, test_data, type = \"class\")) %>%\n",
        "  bind_cols(test_data %>% select(stroke)) %>%\n",
        "  rename(pred_class = .pred_class)\n",
        "\n",
        "# Sanity check on coding probabilities\n",
        "summary(rf_preds$.pred_1)\n",
        "\n",
        "plot(rf_preds$stroke, rf_preds$.pred_1)"
      ]
    },
    {
      "cell_type": "markdown",
      "source": [
        "Due to a case imbalance, the model performs very well predicting no-one has a stroke. To solve this problem we can find the cut-point in p(stroke) that maximizes sensitivity and specificity."
      ],
      "metadata": {
        "id": "AptSd1J9Kv20"
      }
    },
    {
      "cell_type": "code",
      "execution_count": null,
      "metadata": {
        "id": "91yQigRP7zvE"
      },
      "outputs": [],
      "source": [
        "# Create the ROC curve data\n",
        "roc_df <- rf_preds %>%\n",
        "  roc_curve(truth = stroke, .pred_1, event_level = \"second\")\n",
        "\n",
        "# Add Youden's J statistic\n",
        "roc_df <- roc_df %>%\n",
        "  mutate(youden_j = sensitivity + specificity - 1)\n",
        "\n",
        "# Find the threshold that maximizes Youden's J\n",
        "best_threshold <- roc_df %>%\n",
        "  filter(youden_j == max(youden_j)) %>%\n",
        "  slice(1) %>%  # In case of ties\n",
        "  pull(.threshold)\n",
        "\n",
        "print(best_threshold)\n",
        "\n",
        "\n",
        "\n"
      ]
    },
    {
      "cell_type": "markdown",
      "source": [
        "Next, we can apply that cut-point to the data, obtaining our predicted strokes and compare those to actual sctroke occurance using a confusion matrix."
      ],
      "metadata": {
        "id": "mAtx3Yh0LCgP"
      }
    },
    {
      "cell_type": "code",
      "source": [
        "# Apply the optimal threshold\n",
        "rf_preds <- rf_preds %>%\n",
        "  mutate(pred_class_optimal = factor(if_else(.pred_1 >= best_threshold, \"1\", \"0\"),\n",
        "                                     levels = c(\"0\", \"1\")))\n",
        "\n",
        "# Confusion matrix\n",
        "conf_mat(data = rf_preds, truth = stroke, estimate = pred_class_optimal)\n"
      ],
      "metadata": {
        "id": "tgXf7YMTXMR6"
      },
      "execution_count": null,
      "outputs": []
    },
    {
      "cell_type": "markdown",
      "source": [
        "Finally, we can also generate an ROC curve to vizualize the results."
      ],
      "metadata": {
        "id": "-nN5gFJ-LNRL"
      }
    },
    {
      "cell_type": "code",
      "source": [
        "# ROC AUC\n",
        "roc_auc_result <- rf_preds %>%\n",
        "  roc_auc(truth = stroke, .pred_1, event_level = \"second\")\n",
        "\n",
        "roc_curve_data <- rf_preds %>%\n",
        "  roc_curve(truth = stroke, .pred_1, event_level = \"second\")\n",
        "\n",
        "roc_plot <- autoplot(roc_curve_data)\n",
        "\n",
        "# Show plot\n",
        "print(roc_plot)"
      ],
      "metadata": {
        "id": "U0hWYenlXBYq"
      },
      "execution_count": null,
      "outputs": []
    },
    {
      "cell_type": "markdown",
      "source": [
        "If you want a video tutorial of how to use Google Colab and copy your notebooks into Github you can follow this link: https://youtu.be/DtuU0gZRlaY\n",
        "\n",
        "This was work sponsored by ReproRehab: https://www.reprorehab.usc.edu/ <br>\n",
        "![reprorehab logo.png](data:image/png;base64,iVBORw0KGgoAAAANSUhEUgAAAaAAAAB5CAMAAABIrgU4AAAAn1BMVEX///9nMh+HW01jKhOEVkeTdWxYEAB9SjmskYn28vGFWEqYe3N/Tj58SDZcGgCCUkLe1dOXc2hhJQqrlY9eHwDk3Nrw7ezBr6rIu7haFgCKX1HQwr5qOCfr5+ZkLRimiYGzoJtXCwDOv7vYzMm7qqWQaV12PimLaWBwQDF0RzlVAACEYFWVeHDCs6+dgnu5o5xIAAB+V0xzRjiUb2R0OiNQFTUEAAANJ0lEQVR4nO2da2OiOhCGQRAEQZSLigqiaN22a91uz///bYfbTBKIt1ZWu5v3U0shgXmSzGQSqCQJCQkJCQkJCQkJCQkJCQkJCQkJCQkJCQkJCQkJPb7Se9+A0En1u/e+A6FTetXe7n0LuZY9IaJlBHYxfrjxc791dYNzgJ5UISIb7BW4sSzLSutaDc8BsjtCRFYFaK7lfBZy6xoIQFepApSsCusJQA+nElA/lAWgx1QBKCjGNwHoEVX2oCyCE4AeUxAkvPoC0EMKAElv4cMBMvV/WA1AUrKS5VhrS+71gMwPyfhnJakNQNlUyO23ZpKe+xlA/7A4gKQg7LdWnycAXSceIMnotVafAHSluIBalAB0pQSgB5cA9OASgB5cAtCD6yaAjDHo7KlfBBTtp6z20zQ6XsQdZazndQ0/c6c3AbSxrUL2+b0MXwQ0ffHrGoSr3cT4wt23o8B26soMNJqcb8OsbgJo4pSFqMuzp34VkM/L6yn+avloiAKrw5Hp2MvrEP0VgDK5g/kXHqAF8QHlRrIn15TztwCS5VXy+QdoQUcBZbY+byaivweQrG2+8Ag31wlAHeeKVNpfBEh++UNThYt0ClBHX19czrcF5FaKCaD49xee4dYigNQyhlNVipB1cTnfFZDrJYW8V01BQuEDBQoISPUmhQ5vlkMGuYsDhe8KKMSw2ugPAJCy++QDtCAERFl2gwvYZufScr4tIGo24eG4F7IlRFOv3+3+9Pa3cU7D+XrOljSeJ2/dbvctmTcmNwQQ9aBzJKSzWQUjnfSWy2UybdxpDZAxnE/nR0w3Hk4nh0z7RnKlBiirLTutWVeuNgBJC3BEIV3n5ofmu/k2cNcPY+8TE1njV7mP4lfu0tOdNsjzFi84OBkJVJDVsHresDVwAUlLsLdDj8brkZ37qEyOZXmsdRlA+61t5SkJu1+3nrFeOrpVluI4unlgSmEApWVteWbDa06aWwGUQKE+eewk9Kn4QXZXHvM8sCej/G3q/dx1l5NakzK0qtSpZLyDq8P79jSmgtjXmBr4gFJwQ5QTmpuW2SFS7R6NmgI0dxw4UdWZrNpwqTt0DFKUQv2dAhRtqdpUO6lbvRVAczjq78G2z4143F+QRjWGvpG/Spi+roqO4PragplKIaB54GMkUo2iQdwM+H2ZarZ8QGMMHdAySxz20GwOdQkCijzmRHVGMB5stV5G1gRMcjcIqJfaJnvWtja0tAIohTABAEWu0jCfHJMBcFyZfpBKxk4jHSGzOnVbAEjxSDAfvxd/mr/EclPxirw7ygdkgJHVQ3Xkw+k0ZZNyVLRC7USVmCVqMC6ucND2AKizbdSmdlhCrQBaYw8qhzgj5plPjgdwEQIajhUWZfxCOhEAkqlT3GIcS1945cv0XJkPKIKjMMR9cNp+TgjLwb+b9XMsMkpuG39kEU54raBxVnuA3sCCVR95R4vGmVsnw1P8XAPkbpooV0gIAVEa5G17HB7hkzURaI98QFP0QWVTStByZu60CS2nAagpMtstAZjllFhFWlbK/P2IHGZcbwOQgRMhrTwJ7BeH75s0nfZDQDTYsIBk3OhKE4LH4gHScgCvpEspfhiGpAnILrx/zQc0A+OVYXaE25ut7SQdpgcVLKmCj2cAmapK9RUSCY71DLC+9fbzNF0nMyjEHPEAmY6VxXtUuTo9yLUAyHiGXhC/FgfwV3Aoxg7HwBognuKYC8j1B1mcnffBIR6Ptd00iILpKzlzFZwA9IZmUYvf+xgCgK0PcJkdNQCp+qjX+9ARETXt3NqjNTHzGnwSmJ4GZH2sg3GU9qhyDhLRzTMJUUI8+GBa3N4A+JBb7lbVVlEEAyj2Q02jg3I/aQJyFS8NgnmS/2kHHSaWwVUMFbhceasDgnPG6xla2ylsgh3IogKu6joI86hRr1yUjCiHg1fVVtMBCDQOCpAOTWG8JXfTAiBkEpJRKpaLc8B+Gl2DXBqw6mM0IHexifKkAxWY+w1APrUZmhxWSAsY17MZjWy2ozvEsmXT3lR2c+jkNvSqso8RQCpMswy0tn3MdBAsOtPydwJIp4yCpOlO3uZyQ+U8qg6kvNKF7asLX0pzEtMPcJzY4MFBaTCKBJ3kw1lXSH+QZQqOcFAePbncUAVgH2Ah+k6DyrhVMohEcXjGBo7ptTnMOBgOgyg/WFUOsSICYkYzjM7pMKFFQGHpV4MqRPDZNZeQrpYA8qn04QRsrPwsfieAQp4bxZiwFOSb/PJpTy7YVf1R51gNA4mqW2FuiJyERdOAos1H5vtz6WZ/Yh4BZDFIIfFE51DbA6RVtWADz7w9EQIpOj0Cin/QNWJ0VoYJZB7EfBqnqzAk6k9WOaFTS94VnzFJbtNiiWAYQbrruB4DZHhGNjWAmvWEEgAy2ddW0uoezW37gNwQsjz7U6NgZVUE5E/pGofQhYpgmgDCDFKhd+gq7Cen4Naq4fDEphHoCydHQQi0OcsNRgPQnpfr4QCq9VWcNlNjbEuAFLLtanMSkJswgEJ2FEfvEjCABkwWFaL62hOklwFSyUd3hqcBLS8GNOGmejiA2Dkp6YrEv91wyTvftIgRnE/FqVf1ILZKtH3KAAqZIPadOQm1PgaonN+jzTjpOj6gi3tQQF63VlWHnsvesQe5Sb6ZNoExiXLYJwO9arRCQAu2ylc+II3pZxDG++yydXLEB6lemmmOtiAJmugkoLoPOg4Iw2VHXR4mh+VWr2f8EBC79RcWP8zZ7QFVl6NbJx47AGgLntzC9Ff2IBYQvGYbv3KvLQdRAqiaixwaSRzyhDOe1NLxnQeE0bKFiy3DGR9QbbOKB1EcFTvcDFA5UkScSBgSoV6jRBTxQeySIiTxaj6IBYT3oNEj3xCurc+DYLKIblxHU1dN3zz1SvB5QFPO+HVsHuTQ4Y6Bt0hdeWNA2JypuST4iPD4JugxPz5Lj0RxLCASo9MTIVx2X5W/NwDhIEeC2kNlff2ELc4DglKoM2DsagCik0pUJpDyprcGJGGcoGFuvTqHnePkK6f4I7Ex44TeMc1aGoIPiJzmvsMfjGcYa6GhNACRvAEudwc4lWfbUjQiP58H5DUBdY5NVDumimctSf6HqvvmgDDFUmXiJMz1yIpMtYzhTgtx0kMyCS7lNjHkUMox5xigOS4HKb5XfITKC3EmDO2kCYisLeD8Bdy7aVF7SCJPt8iYc3kPIkMcrgI2AWUX9XLLR3uykVKlty/cHBA6Z9kHp5PASXH4vBmODSNKvR/5mhCGBHQuDgl5JBdXLcweAST9JplvNwz9kErYKu/VOU1AUg9Mgk55SL70MivudDycfOgqWWy4xgdVQYKxJ2s9PEAdtUgJUUds2pfeHlCAdkWn/YNsIfAHYb6iVi5JuGAYJputJIFhBJsFCc9d6TSgYCUf0woGKw4gdModHe5+SXKhjpV/mscqMzbkmS+I4rBnOtZHf6ZTpucCqovdyn97QFIfioyh9R5dkoYPpbILdu5A0wan1oPqgKjEd00vmKHlAJL2xBXAoRk/R9OxoKAL5kEjKgtX27NTB8TZu2CqzKO1AIiseKOTCULurhFZiXmAamquqDYAScmKz4ekUniAyIo3BrZGh0/IfDIuBkS6EILZHgHUb9ZW2+PaAiAq+4ZOJlrw8gmDH8EFgF7gzk4Akqar5sYuRaNcPRcQ8Tlk3B/x8gkOZoQuycVNWUKqnVZEGpkEaVTfvFXf890GIDIHoWIyb1XbEKIMFMzNUOtBDTOvyN7eE4CkMf1aRVH+akefxgVEfA71UGvHYUeezB1dE8VlmlPZbNXuj6WjgNhNjqb1UX+0LwLav4SlXmhAKRwNf1EjXyLnwUGcj1mKP1jtqAU8sqtnv2IHw5jsvZaMX1Aqd2P3sLsauEpWQVZ+5sb6bFMMnso3360nZvL+pHMOT7d6meM0TdWx7BGN1K4ueKIA/VeV8R95xcPLN2YXb5L3ik3cZe2wslG9hq/nmZ5oaeeV5VXp2+Y/6fgiICMCMTbDoxEz4wsmb6+/swnr+1vC3glJ9UjBYkDvLF0MecUeu8U06b4vlMX7z6T5pFH16Qj2Tsd4mCl0PD+8ZX5jNuptUrY1RNUF9OlYBvOw681hAm9fGBFTN/xaXmDMD/2P7ai35z3XY3xphFkP2lcvKeR7s696Afuv1AMCyqfVvW7+dsNjfrPkz+ohAQkRCUAPLgHowSUAPbjuBehYmC0A1XQvQL0R/ZsAdFT3AuRZ9MuYCGgwbusL7t9Vn/jyfDa//rq2HVOlXiIme01a+ycI31Sf+N8NnZn5dc3y/9GBjuhkNluo0DWAOl9XUYYNCUoB6LzuAaij9wSgS3UXQB1nZAhAl+k+gNROJABdprsAckZiiLtU9wCEX3MVgM7rDoBs3HMzfmn/f2F/d53/X95P8MV2tfEN9+vVYb5QZOy6Qme0+7Of6PWcP/XvQ4Q+pV5HpEUfWmI3iJCQkJCQkJCQkJCQkJCQkJCQkJCQkJCQkJCQkJCQ0L+r/wEoq5/jE1pQywAAAABJRU5ErkJggg==)"
      ],
      "metadata": {
        "id": "IesS8MjCQKf9"
      }
    }
  ],
  "metadata": {
    "colab": {
      "provenance": [],
      "include_colab_link": true
    },
    "kernelspec": {
      "display_name": "R",
      "name": "ir"
    },
    "language_info": {
      "name": "R"
    }
  },
  "nbformat": 4,
  "nbformat_minor": 0
}